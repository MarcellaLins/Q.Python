{
  "nbformat": 4,
  "nbformat_minor": 0,
  "metadata": {
    "colab": {
      "provenance": [],
      "authorship_tag": "ABX9TyMJSnFOsJU+AhqRyC3z8h7e",
      "include_colab_link": true
    },
    "kernelspec": {
      "name": "python3",
      "display_name": "Python 3"
    },
    "language_info": {
      "name": "python"
    }
  },
  "cells": [
    {
      "cell_type": "markdown",
      "metadata": {
        "id": "view-in-github",
        "colab_type": "text"
      },
      "source": [
        "<a href=\"https://colab.research.google.com/github/MarcellaLins/Q.python/blob/main/Lista_de_Algotitimos.ipynb\" target=\"_parent\"><img src=\"https://colab.research.google.com/assets/colab-badge.svg\" alt=\"Open In Colab\"/></a>"
      ]
    },
    {
      "cell_type": "code",
      "execution_count": 2,
      "metadata": {
        "id": "fNHtp8LV-35o",
        "colab": {
          "base_uri": "https://localhost:8080/"
        },
        "outputId": "80074177-6ca6-4357-c760-11568f5eed01"
      },
      "outputs": [
        {
          "output_type": "stream",
          "name": "stdout",
          "text": [
            "Digite o número: 0\n",
            "O número 0 é positivo\n"
          ]
        }
      ],
      "source": [
        "numero = int(input(\"Digite o número: \"))\n",
        "\n",
        "if numero >= 0:\n",
        "  print(\"O número {} é positivo\" .format(numero))\n",
        "else:\n",
        "  print(\"O número {} é negativo\" .format(numero))"
      ]
    },
    {
      "cell_type": "code",
      "source": [
        "numero = int(input(\"Digite um número: \"))\n",
        "if numero > 0:\n",
        "  print(\"O número {} é positivo\" .format(numero))\n",
        "elif numero == 0:\n",
        "  print(\"O número {} é neutro\" .format(numero))\n",
        "else:\n",
        "  print(\"O número {} é negaitivo\" .format(numero))"
      ],
      "metadata": {
        "id": "D-0bn3ojCUaq"
      },
      "execution_count": null,
      "outputs": []
    },
    {
      "cell_type": "code",
      "source": [
        "num1 = int(input(\"Digite o primeiro número: \"))\n",
        "num2 = int(input(\"Digite o segundo número: \"))\n",
        "if num1 > num2:\n",
        "  print(\"O número 1: {} é maior que o número 2: {}\" .format(num1,num2))\n",
        "elif num1 < num2:\n",
        "  print(\"O número número 2: {} é maior que o número 1: {}\" .format(num2,num1))\n",
        "else:\n",
        "  print(\"Os números são iguais a {}\".format(num1))"
      ],
      "metadata": {
        "id": "NahgZ8IdDBpa"
      },
      "execution_count": null,
      "outputs": []
    },
    {
      "cell_type": "code",
      "source": [
        "numero = int(input(\"Digite o número: \"))\n",
        "if numero == 0:\n",
        "  print(\"O número {} é neutro\" .format(numero))\n",
        "elif numero %2 == 0:\n",
        "  print(\"O número {} é par\".format(numero))\n",
        "else:\n",
        "  print(\"O número {} é impar\" .format(numero))"
      ],
      "metadata": {
        "id": "svCao4iUFXiM"
      },
      "execution_count": null,
      "outputs": []
    },
    {
      "cell_type": "code",
      "source": [
        "a = float(input(\"Digite o valor de a: \"))\n",
        "\n",
        "if a == 0:\n",
        "  print(\"Não é equação do segundo grau\")\n",
        "else:\n",
        "  b = float(input(\"Digite o valor de b: \"))\n",
        "  c = float(input(\"Digite o valor de c: \"))\n",
        "\n",
        "delta = (b**2) - (4*a*c)\n",
        "\n",
        "if delta < 0:\n",
        "  print(\"Não existem raízes reais\")\n",
        "elif delta == 0:\n",
        "  raiz = -b/(2*a)\n",
        "  print(\"A raiz dessa equação é {}\" .format(raiz))\n",
        "else:\n",
        "  x1 = (-b + delta**0.5)/(2*a)\n",
        "  x2 = (-b + delta**0.5)/(2*a)\n",
        "  print(\"As raízes dessa equação são: ({} , {})\" .format(x1,x2))\n"
      ],
      "metadata": {
        "id": "t5F3k5zJGTs-"
      },
      "execution_count": null,
      "outputs": []
    },
    {
      "cell_type": "code",
      "source": [
        "litros = float(input(\"Digite a quantidade de litros comprados: \"))\n",
        "tipo = input(\"Digite o tipo de combustível (A ou G): \")\n"
      ],
      "metadata": {
        "id": "-FuPMy6gMGup"
      },
      "execution_count": null,
      "outputs": []
    },
    {
      "cell_type": "code",
      "source": [],
      "metadata": {
        "id": "6elL8OMbSm5v"
      },
      "execution_count": null,
      "outputs": []
    }
  ]
}