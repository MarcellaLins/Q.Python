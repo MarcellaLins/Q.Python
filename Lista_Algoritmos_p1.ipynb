{
  "nbformat": 4,
  "nbformat_minor": 0,
  "metadata": {
    "colab": {
      "provenance": [],
      "authorship_tag": "ABX9TyNFmSq4hmvRrD6FsFX006Bv",
      "include_colab_link": true
    },
    "kernelspec": {
      "name": "python3",
      "display_name": "Python 3"
    },
    "language_info": {
      "name": "python"
    }
  },
  "cells": [
    {
      "cell_type": "markdown",
      "metadata": {
        "id": "view-in-github",
        "colab_type": "text"
      },
      "source": [
        "<a href=\"https://colab.research.google.com/github/MarcellaLins/Q.python/blob/main/Lista_Algoritmos_p1.ipynb\" target=\"_parent\"><img src=\"https://colab.research.google.com/assets/colab-badge.svg\" alt=\"Open In Colab\"/></a>"
      ]
    },
    {
      "cell_type": "code",
      "execution_count": null,
      "metadata": {
        "id": "TY8hBkyP-rcQ"
      },
      "outputs": [],
      "source": [
        "#QUESTÃO 1\n",
        "numero = int(input(\"Digite um número: \"))\n",
        "print(\"O número digitado foi {}\" .format(numero))"
      ]
    },
    {
      "cell_type": "code",
      "source": [
        "#QUESTÃO 2\n",
        "num1 = int(input(\"Digite o primeiro número: \"))\n",
        "num2 = int(input(\"Digite o segundo número: \"))\n",
        "soma = num1 + num2\n",
        "print(\"A soma entre {} e {} é {}\".format(num1, num2, soma))"
      ],
      "metadata": {
        "id": "1c9owVzg_iLQ"
      },
      "execution_count": null,
      "outputs": []
    },
    {
      "cell_type": "code",
      "source": [
        "#QUESTÃO 3\n",
        "nota1 = int(input(\"Digite a primeira nota: \"))\n",
        "nota2 = int(input(\"Digite a segunda nota: \"))\n",
        "nota3 = int(input(\"Digite a terceira nota: \"))\n",
        "nota4 = int(input(\"Digite a quarta nota: \"))\n",
        "\n",
        "media = (nota1+nota2+nota3+nota4)/4\n",
        "\n",
        "print(\"A sua média é\", media)"
      ],
      "metadata": {
        "id": "X6TP3rpTAG7L"
      },
      "execution_count": null,
      "outputs": []
    },
    {
      "cell_type": "code",
      "source": [
        "#QUESTÃO 4\n",
        "metro = int(input(\"Digite o valor em metros: \"))\n",
        "centimetro = metro*100\n",
        "print(\"A conversão de {}m é igual a {}cm\".format(metro,centimetro))"
      ],
      "metadata": {
        "id": "yzKFcb2wA2wq"
      },
      "execution_count": null,
      "outputs": []
    },
    {
      "cell_type": "code",
      "source": [
        "#QUESTÃO 5\n",
        "raio = int(input(\"Digite o raio do seu círculo: \"))\n",
        "area = 3.14*(raio**2)\n",
        "print(\"A área deste círculo é {}\".format(area))"
      ],
      "metadata": {
        "id": "wf0FsvnSC-FH"
      },
      "execution_count": null,
      "outputs": []
    },
    {
      "cell_type": "code",
      "source": [
        "#QUESTÃO 6\n",
        "lado = int(input(\"Digite o valor do lado deste quadrado: \"))\n",
        "area = lado**2\n",
        "dobro = 2*area\n",
        "print(\"A área deste quadrado é {} e seu dobro é {}\".format(area,dobro))"
      ],
      "metadata": {
        "id": "uH3fBVtjDybT"
      },
      "execution_count": null,
      "outputs": []
    },
    {
      "cell_type": "code",
      "source": [
        "#QUESTÃO 7\n",
        "valor_hora = float(input(\"Digite quanto ganha por hora: \"))\n",
        "horas = int(input(\"Digite suas horas de trabalho mensais: \"))\n",
        "salario = valor_hora*horas\n",
        "print(\"O seu salário é:\",salario)"
      ],
      "metadata": {
        "id": "a3zpBBn-EcZZ"
      },
      "execution_count": null,
      "outputs": []
    },
    {
      "cell_type": "code",
      "source": [
        "#QUESTÃO 8\n",
        "farenheit = float(input(\"Digite a temperatura em Farenheit: \"))\n",
        "celsius = 5*(farenheit-32)/9\n",
        "print(\"{}ºF é igual a {}ºC\".format(farenheit,celsius))"
      ],
      "metadata": {
        "id": "9BG-cqXWFdYa"
      },
      "execution_count": null,
      "outputs": []
    },
    {
      "cell_type": "code",
      "source": [
        "#QUESTÃO 9\n",
        "celsius = float(input(\"Digite a temperatura em Celsius: \"))\n",
        "farenheit = 1.8*celsius + 32\n",
        "print(\"{}ºC é igual a {}ºF\".format(celsius,farenheit))"
      ],
      "metadata": {
        "id": "sS9Mx1dlJEUa"
      },
      "execution_count": null,
      "outputs": []
    },
    {
      "cell_type": "code",
      "source": [
        "#QUESTÃO 10\n",
        "dolar = float(input(\"Digite o valor em dolar: \"))\n",
        "cotacao = float(input(\"Digite a cotação de hoje: \"))\n",
        "real = dolar*cotacao\n",
        "print(\"{} em dolar vale {} em reais\".format(dolar,real))"
      ],
      "metadata": {
        "id": "Elat81a4G_pD"
      },
      "execution_count": null,
      "outputs": []
    },
    {
      "cell_type": "code",
      "source": [
        "#QUESTÃO 11\n",
        "deposito = int(input(\"Digite o valor depositado: \"))\n",
        "juros = (deposito*0.007)\n",
        "depo_juros = deposito + juros\n",
        "print(\"O valor rendido no primeiro mês é {:.2f}, ou seja, sua conta contêm {}:\".format(juros,depo_juros))"
      ],
      "metadata": {
        "id": "5SzqnQv4Hrj6"
      },
      "execution_count": null,
      "outputs": []
    },
    {
      "cell_type": "code",
      "source": [
        "#QUESTÃO 12\n",
        "compra = int(input(\"Digite o valor total da compra: \"))\n",
        "prestacao = compra/5\n",
        "print(\"O valor de cada prestação é:\",prestacao)"
      ],
      "metadata": {
        "id": "XSLX-kyjKW82"
      },
      "execution_count": null,
      "outputs": []
    },
    {
      "cell_type": "code",
      "source": [
        "#QUESTÃO 13\n",
        "preco_custo = int(input(\"Digite o valor de custo deste produto: \"))\n",
        "percentual = float(input(\"Digite o percentual de acrescimo: \"))\n",
        "percentual = percentual/100\n",
        "preco_venda = (preco_custo*percentual) + preco_custo\n",
        "print(\"O preço de venda deste produto é {}\".format(preco_venda))"
      ],
      "metadata": {
        "id": "P4A5oqiFK25i"
      },
      "execution_count": null,
      "outputs": []
    },
    {
      "cell_type": "code",
      "source": [
        "#QUESTÃO 14\n",
        "distancia = int(input(\"Digite a distancia percorrida, em quilometros: \"))\n",
        "combustivel = int(input(\"Digite a quantidade de combustivel gasto, em litros: \"))\n",
        "consumo_medio = distancia/combustivel\n",
        "print(\"O consumo médio deste veículo é {}km/l\".format(consumo_medio))"
      ],
      "metadata": {
        "id": "9zxWAwiSLMG1"
      },
      "execution_count": null,
      "outputs": []
    },
    {
      "cell_type": "code",
      "source": [
        "#QUESTÃO 15\n",
        "a = int(input(\"Digite o primeiro número positivo: \"))\n",
        "b = int(input(\"Digite o segundo número positivo: \"))\n",
        "c = int(input(\"Digite o terceiro número positivo: \"))\n",
        "\n",
        "r = (a+b)**2\n",
        "s = (b+c)**2\n",
        "formula_D = (r+s)/2\n",
        "\n",
        "print(\"O resultado é {}\".format(formula_D))"
      ],
      "metadata": {
        "id": "kJ0fDsc7VLux"
      },
      "execution_count": null,
      "outputs": []
    },
    {
      "cell_type": "code",
      "source": [
        "#QUESTÃO 16\n",
        "nome = input(\"Digite o nome do vendedor: \")\n",
        "salario_Fixo = int(input(\"Digite o salário fixo: \"))\n",
        "comissao = (salario_Fixo*1.15)\n",
        "print(\"O salário fixo de {} é {}, e o seu salário no final no mês é {}\".format(nome,salario_Fixo,comissao))"
      ],
      "metadata": {
        "id": "FntJ-F0rWdEB"
      },
      "execution_count": null,
      "outputs": []
    },
    {
      "cell_type": "code",
      "source": [
        "#QUESTÃO 17\n",
        "n1 = int(input(\"Digite um número inteiro: \"))\n",
        "n2 = int(input(\"Digite outro número inteiro: \"))\n",
        "n3 = float(input(\"Digite um número real: \"))\n",
        "form1 = (n1*2)*(n2/2)\n",
        "form2 = (n1*3)+n3\n",
        "form3 = n3**3\n",
        "print(\"O produto do dobro do primeiro com a metade do segundo é: {}\".format(form1))\n",
        "print(\"A soma do triplo do primeiro com o terceiro é: {}\".format(form2))\n",
        "print(\"O terceiro elevado ao cubo é: {}\".format(form3))\n"
      ],
      "metadata": {
        "id": "Pc3pLgbCYYzT"
      },
      "execution_count": null,
      "outputs": []
    },
    {
      "cell_type": "code",
      "source": [
        "#QUESTÃO 18\n",
        "altura = float(input(\"Digite sua altura: \"))\n",
        "peso_Ideal = (72.7*altura)-58\n",
        "print(\"O peso ideal para {} é {}\".format(altura, peso_Ideal))"
      ],
      "metadata": {
        "id": "FyVvmnu5bDdv"
      },
      "execution_count": null,
      "outputs": []
    },
    {
      "cell_type": "code",
      "source": [
        "#QUESTÃO 19\n",
        "tamanho = int(input(\"Informe o tamanho do aquivo para dowload em MB: \"))\n",
        "velocidade = int(input(\"Informe a velocidade de um link na internet MBps: \"))\n",
        "tempo = tamanho/velocidade\n",
        "print(\"O tempo aproximado para dowload deste arquivo é: {}\".format(tempo))"
      ],
      "metadata": {
        "id": "SZ89Cb46bxl-"
      },
      "execution_count": null,
      "outputs": []
    },
    {
      "cell_type": "code",
      "source": [
        "#QUESTÃO 20\n",
        "variavelA = input('Digite o valor da variável A: ')\n",
        "variavelB = input('Digite o valor da variável B: ')\n",
        "aux = variavelA\n",
        "variavelA = variavelB\n",
        "variavelB = aux\n",
        "print('O valor da variável A é {} e o da variável B é {}.'.format(variavelA, variavelB))"
      ],
      "metadata": {
        "id": "Nl0nD6ezbzw-"
      },
      "execution_count": null,
      "outputs": []
    },
    {
      "cell_type": "code",
      "source": [
        "#QUESTÃO 21\n",
        "valorHora = int(input(\"Digite quanto ganha por hora: \"))\n",
        "horas = int(input(\"Digite a quantidade de horas trabalhadas ao mês: \"))\n",
        "salarioBruto = valor_Hora*horas\n",
        "descontoinss = salario_Bruto*0.08\n",
        "descontoSindicato = salario_Bruto*0.05\n",
        "descontoImpostodeRenda = salario_Bruto*0.11\n",
        "salarioLiquido = salario_Bruto-(desconto_ImpostodeRenda+desconto_inss+desconto_Sindicato)\n",
        "print(\"Salário Bruto:\",salario_Bruto)\n",
        "print(\"Desconto INSS: \",desconto_inss)\n",
        "print(\"Desconto Sindicato: \",desconto_Sindicato)\n",
        "print(\"Desconto Imposto de renda: \",desconto_ImpostodeRenda)\n",
        "print(\"Salário Líquido: \",salario_liquido)"
      ],
      "metadata": {
        "id": "_qqJ-AeSb1m8"
      },
      "execution_count": null,
      "outputs": []
    },
    {
      "cell_type": "code",
      "source": [
        "#QUESTÃO 22\n",
        "num1 = int(input(\"Digite um número: \"))\n",
        "num2 = int(input(\"Digite outro número: \"))\n",
        "if num1 == num2:\n",
        "  print(\"Os números são iguais\")\n",
        "elif num1 > num2:\n",
        "  print(\"O número 1: ({}) é maior que o número 2: ({})\".format(num1,num2))\n",
        "else:\n",
        "  print(\"O número 2: ({} é maior que o número 1: ({})\".format(num2,num1))"
      ],
      "metadata": {
        "id": "S7trZxWjheNp"
      },
      "execution_count": null,
      "outputs": []
    },
    {
      "cell_type": "code",
      "source": [
        "#QUESTÃO 23\n",
        "num = int(input(\"Escreve um valor inteiro: \"))\n",
        "if num == 0:\n",
        "  print(\"Este valor é neutro\")\n",
        "elif num > 0:\n",
        "  print(\"Este número é positivo\")\n",
        "else:\n",
        "  print(\"Este número é negativo\")"
      ],
      "metadata": {
        "id": "sMvBAJfEir6K"
      },
      "execution_count": null,
      "outputs": []
    },
    {
      "cell_type": "code",
      "source": [
        "#QUESTÃO 24\n",
        "genero = input(\"Digite F ou M: \")\n",
        "if genero == \"F\" or genero == \"f\":\n",
        "  print(\"Feminino\")\n",
        "elif genero == \"M\" or genero == \"m\":\n",
        "  print(\"Masculino\")\n",
        "else:\n",
        "  print(\"Gênero inválido\")"
      ],
      "metadata": {
        "id": "Pkkl3xlwjTbT"
      },
      "execution_count": null,
      "outputs": []
    },
    {
      "cell_type": "code",
      "source": [
        "#QUESTÃO 25\n",
        "nota1 = int(input(\"Digite sua primeira nota: \"))\n",
        "nota2 = int(input(\"Digite sua segunda nota: \"))\n",
        "media = (nota1+nota2)/2\n",
        "if media == 10:\n",
        "    print(\"APROVADO COM DISTINÇÃO!\")\n",
        "elif media < 7:\n",
        "  print(\"REPROVADO!\")\n",
        "else:\n",
        "  print(\"APROVADO!\")"
      ],
      "metadata": {
        "id": "froEF2H5kd7l"
      },
      "execution_count": null,
      "outputs": []
    },
    {
      "cell_type": "code",
      "source": [
        "#QUESTÃO 26\n",
        "num1 = int(input(\"Digite o primeiro número: \"))\n",
        "num2 = int(input(\"Digite o segundo número: \"))\n",
        "num3 = int(input(\"Digite o terceiro número: \"))\n",
        "if num1 > num2 and num1 > num3:\n",
        "  print(\"O número {} é maior\".format(num1))\n",
        "elif num2 > num3:\n",
        "  print(\"O número {} é maior\".format(num2))\n",
        "elif num3 > num2:\n",
        "  print(\"O número {} é maior\".format(num3))\n",
        "else:\n",
        "    print(\"Os números são iguais\")"
      ],
      "metadata": {
        "id": "mQkqUXIJvqf9"
      },
      "execution_count": null,
      "outputs": []
    },
    {
      "cell_type": "code",
      "source": [
        "#QUESTÃO 27\n",
        "produto1 = float(input(\"Digite o primeiro valor: \"))\n",
        "produto2 = float(input(\"Digite o segundo valor: \"))\n",
        "produto3 = float(input(\"Digite o terceiro valor: \"))\n",
        "if produto1 < produto2 and produto1 < produto3:\n",
        "  print(\"O mais barato é o produto 1: {}\".format(produto1))\n",
        "elif produto2 < produto3:\n",
        "  print(\"O mais barato é o produto 2: {}\".format(produto2))\n",
        "elif produto3 < produto2:\n",
        "  print(\"O mais barato é o produto 3: {}\".format(produto3))\n",
        "else:\n",
        "    print(\"Os preços são iguais\")"
      ],
      "metadata": {
        "id": "eAI0b3Yl1kw4"
      },
      "execution_count": null,
      "outputs": []
    },
    {
      "cell_type": "code",
      "source": [
        "#QUESTÃO 28\n",
        "turno = input(\"Digite seu turno (M,T,N): \")\n",
        "if turno == \"M\" or turno == \"m\":\n",
        "  print(\"BOM DIA!\")\n",
        "elif turno == \"T\" or turno ==\"t\":\n",
        "  print(\"BOA TARDE!\")\n",
        "elif turno == \"N\" or turno == \"n\":\n",
        "  print(\"BOA NOITE!\")\n",
        "else:\n",
        "  print(\"VALOR INVALIDO!\")"
      ],
      "metadata": {
        "id": "6s0w4HMW4VB-"
      },
      "execution_count": null,
      "outputs": []
    },
    {
      "cell_type": "code",
      "source": [
        "#QUESTÃO 29\n",
        "salario = float(input(\"Digite seu salário: \"))\n",
        "if salario <= 280:\n",
        "  percentual = 1.2\n",
        "  salarioNovo = salario*percentual\n",
        "elif salario > 280 and salario <= 700:\n",
        "  percentual = 1.15\n",
        "  salarioNovo = salario*percentual\n",
        "elif salario > 700 and salario < 1500:\n",
        "  percentual = 1.1\n",
        "  salarioNovo = salario*percentual\n",
        "else:\n",
        "  percentual = 0.05\n",
        "  salarioNovo = salario*percentual\n",
        "\n",
        "percentualAumento = (percentual*100)-100\n",
        "valorAumento = (salarioNovo-salario)\n",
        "\n",
        "print(\"O seu salário antes do reajuste era de: {}\".format(salario))\n",
        "print(\"O percentual de aumento é de {}\".format(percentualAumento))\n",
        "print(\"O valor de aumento foi de {}\".format(valorAumento))\n",
        "print(\"O seu salário atual é de {}\".format(salarioNovo))\n"
      ],
      "metadata": {
        "id": "WJrZ10sVAuuf"
      },
      "execution_count": null,
      "outputs": []
    },
    {
      "cell_type": "code",
      "source": [
        "#QUESTÃO 30\n",
        "hora = float(input(\"Digite o valor da hora: \"))\n",
        "quantidadeHoras = int(input(\"Digite a quantidade de horas trabalhadas: \"))\n",
        "salarioBruto = hora*quantidadeHoras\n",
        "sindicato = salarioBruto*0.03\n",
        "fgts = salarioBruto*0.11\n",
        "if salarioBruto <= 900:\n",
        "  impostodeRenda = 0\n",
        "elif salarioBruto > 900 and salarioBruto <= 1500:\n",
        "  impostodeRenda = salarioBruto*0.05\n",
        "elif salarioBruto > 1500 and salarioBruto <= 2500:\n",
        "  impostodeRenda = salarioBruto*0.10\n",
        "else:\n",
        "  impostodeRenda = salarioBruto*0.20\n",
        "\n",
        "totalDescontos = impostodeRenda+sindicato+fgts\n",
        "salarioLiquido = salarioBruto - totalDescontos\n",
        "\n",
        "print(\"O salário Bruto é de: {}\".format(salarioBruto))\n",
        "print(\"Imposto de Renda: {}\".format(impostodeRenda))\n",
        "print(\"Sindicato: {}\".format(sindicato))\n",
        "print(\"FGTS: {}\".format(fgts))\n",
        "print(\"Total de Descontos: {}\".format(totalDescontos))\n",
        "print(\"Salário Líquido: {}\".format(salarioLiquido))\n",
        "\n",
        "#ANALISAR QUESTÃO"
      ],
      "metadata": {
        "id": "TgJhekWranjU"
      },
      "execution_count": null,
      "outputs": []
    },
    {
      "cell_type": "code",
      "source": [
        "#QUESTÃO 31\n",
        "numero = int(input(\"Digite o número referente ao dia da semana: \"))\n",
        "if numero == 1:\n",
        "  print(\"Corresponde ao Domingo\")\n",
        "elif numero == 2:\n",
        "  print(\"Corresponde a Segunda\")\n",
        "elif numero == 3:\n",
        "  print(\"Corresponde a Terça\")\n",
        "elif numero == 4:\n",
        "  print(\"Corresponde a Quarta\")\n",
        "elif numero == 5:\n",
        "  print(\"Corresponde a Quinta\")\n",
        "elif numero == 6:\n",
        "  print(\"Corresponde a Sexta\")\n",
        "elif numero == 7:\n",
        "  print(\"Corresponde ao Sábado\")\n",
        "else:\n",
        "  print(\"VALOR INVÁLIDO!\")"
      ],
      "metadata": {
        "id": "Ew3wWyrgcJll"
      },
      "execution_count": null,
      "outputs": []
    },
    {
      "cell_type": "code",
      "source": [
        "#QUESTÃO 32\n",
        "nota1 = float(input(\"Digite a primeira nota: \"))\n",
        "nota2 = float(input(\"Digite a segunda nota: \"))\n",
        "media = (nota1+nota2)/2\n",
        "if media >=9:\n",
        "  conceito = \"A\"\n",
        "elif media >= 7.5:\n",
        "  conceito = \"B\"\n",
        "elif media >= 6:\n",
        "  conceito = \"C\"\n",
        "elif media >= 4:\n",
        "  conceito = \"D\"\n",
        "elif media < 4 and media > 0:\n",
        "  conceito = \"E\"\n",
        "else:\n",
        "  conceito = \"INVÁLIDO\"\n",
        "\n",
        "if media > 7.5:\n",
        "  print(\"Suas notas foram {} e {}\".format(nota1,nota2))\n",
        "  print(\"Sua média foi {}\".format(media))\n",
        "  print(\"Seu conceito foi {}\".format(conceito))\n",
        "  print(\"APROVADO!\")\n",
        "elif media < 0:\n",
        "  print(\"NOTAS INVÁLIDAS\")\n",
        "else:\n",
        "  print(\"Suas notas foram {} e {}\".format(nota1,nota2))\n",
        "  print(\"Sua média foi {}\".format(media))\n",
        "  print(\"Seu conceito foi {}\".format(conceito))\n",
        "  print(\"REPROVADO!\")"
      ],
      "metadata": {
        "id": "uzFM4nkQcMqR"
      },
      "execution_count": null,
      "outputs": []
    },
    {
      "cell_type": "code",
      "source": [
        "#QUESTÃO 33\n",
        "lado1 = int(input(\"Digite o valor do primeiro lado: \"))\n",
        "lado2 = int(input(\"Digite o valor do segundo lado: \"))\n",
        "lado3 = int(input(\"Digite o valor do terceiro lado: \"))\n",
        "\n",
        "if (lado1 + lado2 > lado3) and (lado1 + lado3 > lado2) and (lado2 + lado3 > lado1):\n",
        "\n",
        "    if (lado1 == lado2) and (lado2 == lado3):\n",
        "        print(\"Este triângulo é equilátero!\")\n",
        "    elif (lado1 == lado2) or (lado1 == lado3) or (lado2 == lado3):\n",
        "        print(\"Este triângulo é isósceles!\")\n",
        "    else:\n",
        "        print(\"Este triângulo é escaleno\")\n",
        "else:\n",
        "    print(\"Não é um triângulo!\")"
      ],
      "metadata": {
        "id": "6hA4HBdkwyS9"
      },
      "execution_count": null,
      "outputs": []
    },
    {
      "cell_type": "code",
      "source": [
        "#QUESTÃO 34\n",
        "a = float(input(\"valor a: \"))\n",
        "if a == 0:\n",
        "    print(\"Não é do segundo grau\")\n",
        "else:\n",
        "    b = float(input(\"valor b: \"))\n",
        "    c = float(input(\"valor c: \"))\n",
        "\n",
        "    delta = (b**2) - (4*a*c)\n",
        "\n",
        "    if delta < 0:\n",
        "        print(\"Não há raízes reais\")\n",
        "    elif delta == 0:\n",
        "        raiz = -b/(2*a)\n",
        "        print(raiz)\n",
        "    else:\n",
        "        x1 = (-b + delta ** 0.5)/(2*a)\n",
        "        x2 = (-b - delta ** 0.5)/(2*a)\n",
        "        print(x1,x2)"
      ],
      "metadata": {
        "id": "9DxVPpXAht0x"
      },
      "execution_count": null,
      "outputs": []
    },
    {
      "cell_type": "code",
      "source": [
        "#QUESTÃO 35\n",
        "a = float(input(\"valor a: \"))\n",
        "if a == 0:\n",
        "    print(\"Não é do segundo grau\")\n",
        "else:\n",
        "    b = float(input(\"valor b: \"))\n",
        "    c = float(input(\"valor c: \"))\n",
        "\n",
        "    delta = (b**2) - (4*a*c)\n",
        "\n",
        "    if delta < 0:\n",
        "        print(\"Não há raízes reais\")\n",
        "    elif delta == 0:\n",
        "        raiz = -b/(2*a)\n",
        "        print(raiz)\n",
        "    else:\n",
        "        x1 = (-b + delta ** 0.5)/(2*a)\n",
        "        x2 = (-b - delta ** 0.5)/(2*a)\n",
        "        print(x1,x2)\n",
        "\n",
        "##IGUAL A ANTERIOR??"
      ],
      "metadata": {
        "id": "uxaC9JSYoQRV"
      },
      "execution_count": null,
      "outputs": []
    },
    {
      "cell_type": "code",
      "source": [
        "#QUESTÃO 36\n",
        "ano = int(input(\"Informe o ano: \"))\n",
        "if (ano %4 == 0 and  ano%100 != 0) or (ano%400 ==0):\n",
        "  print(\"Este ano é bissexto!\")\n",
        "else:\n",
        "  print(\"Este ano não é bissexto!\")"
      ],
      "metadata": {
        "id": "ju1BCVvWrsIi"
      },
      "execution_count": null,
      "outputs": []
    },
    {
      "cell_type": "code",
      "source": [
        "#QUESTÃO 37\n",
        "nota1 = int(input(\"Digite sua primeira nota: \"))\n",
        "nota2 = int(input(\"Digite sua segunda nota: \"))\n",
        "nota3 = int(input(\"Digite sua terceira nota: \"))\n",
        "media = (nota1+nota2+nota3)/3\n",
        "if media == 10:\n",
        "    print(\"Sua média foi {}: APROVADO COM DISTINÇÃO!\".format(media))\n",
        "elif media < 7:\n",
        "  print(\"Sua média foi {}: REPROVADO!\".format(media))\n",
        "else:\n",
        "  print(\"Sua média foi {}: APROVADO!\".format(media))"
      ],
      "metadata": {
        "id": "K1bZvxHnrsmJ"
      },
      "execution_count": null,
      "outputs": []
    },
    {
      "cell_type": "code",
      "source": [
        "#QUESTÃO 38\n",
        "valorSaque = int(input(\"Digite o valor de saque: \"))\n",
        "\n",
        "if valorSaque < 10 or valorSaque > 600:\n",
        "  print(\"Não é possível fazer este saque!\")\n",
        "else:\n",
        "  nota100 = int(valorSaque/100)\n",
        "  valorSaque -= nota100*100\n",
        "  nota50 = int(valorSaque/50)\n",
        "  valorSaque -= nota50*50\n",
        "  nota10 = int(valorSaque/10)\n",
        "  valorSaque -= nota10*10\n",
        "  nota5 = int(valorSaque/5)\n",
        "  valorSaque -= nota5*5\n",
        "  nota1 = int(valorSaque/1)\n",
        "  valorSaque -= nota1*1\n",
        "\n",
        "  print(\"Notas de 100:{}  Notas de 50:{}  Notas de 10:{}  Notas de 5:{}  Notas de 1 {}\".format(nota100, nota50, nota10, nota5, nota1))\n"
      ],
      "metadata": {
        "id": "BkMLPC51uZIc"
      },
      "execution_count": null,
      "outputs": []
    },
    {
      "cell_type": "code",
      "source": [
        "#QUESTÃO 39\n",
        "numero = int(input(\"Digite um número inteiro: \"))\n",
        "if numero == 0:\n",
        "  print(\"O NÚMERO {} É NULO!\".format(numero))\n",
        "elif numero%2 == 0:\n",
        "  print(\"O NÚMERO {} É PAR!\".format(numero))\n",
        "else:\n",
        "  print(\"O NÚMERO {} É ÍMPAR!\".format(numero))"
      ],
      "metadata": {
        "id": "nC7MvlNjubM3"
      },
      "execution_count": null,
      "outputs": []
    },
    {
      "cell_type": "code",
      "source": [
        "#QUESTÃO 40\n",
        "num1 = float(input(\"Digite o primeiro número: \"))\n",
        "num2 = float(input(\"Digite o segundo número: \"))\n",
        "operacao = input(\"Digite a operação desejada (+, -, /, x): \" )\n",
        "\n",
        "if operacao == \"+\":\n",
        "  calculo = num1 + num2\n",
        "else:\n",
        "  if operacao == \"-\":\n",
        "    calculo = num1 = num2\n",
        "  else:\n",
        "    if operacao == \"/\":\n",
        "      calculo = num1 / num2\n",
        "    else:\n",
        "      if operacao == \"X\" or operacao == \"x\":\n",
        "        calculo = num1*num2\n",
        "      else:\n",
        "        operacao == \"ESTÁ OPERAÇÃO É INVÁLIDA\"\n",
        "\n",
        "if calculo %2 == 0:\n",
        "  numPI = \"ESTE NÚMERO É PAR!\"\n",
        "else:\n",
        "  if calculo %2 == 1:\n",
        "    numPI = \"ESTE NÚMERO É IMPAR\"\n",
        "  else:\n",
        "    numPI = \"NÃO SE CONFIGURA COMO NEGATIVO OU POSITIVO\"\n",
        "\n",
        "if calculo > 0:\n",
        "  numPN = \"ESTE NÚMERO É POSITIVIO\"\n",
        "else:\n",
        "  if calculo == 0:\n",
        "    numPN = \"ESTE NÚMERO É NEUTRO\"\n",
        "  else:\n",
        "    numPN = \"ESTE NÚMERO É NEGATIVO\"\n",
        "\n",
        "if int(calculo) == calculo:\n",
        "  tipo = (\"Este número é inteiro!\")\n",
        "else:\n",
        "  tipo = (\"Este número é decimal\")\n",
        "\n",
        "\n",
        "print(\"O resultado da operação é de {}\".format(calculo))\n",
        "print(numPI)\n",
        "print(numPN)\n",
        "print(tipo)"
      ],
      "metadata": {
        "id": "56D5uJA1WP6H"
      },
      "execution_count": null,
      "outputs": []
    },
    {
      "cell_type": "code",
      "source": [
        "#QUESTÃO 41\n",
        "\n",
        "print(\"Informe 1 para sim e 0 para não\")\n",
        "resp1 = int(input(\"Telefonou para a vítima? \"))\n",
        "while resp1 != 0 or resp1 !=1:\n",
        "  resp1 = int(input(\"Telefonou para a vítima? \"))\n",
        "\n",
        "resp2 = int(input(\"Esteve no local do crime? \"))\n",
        "while resp2 != 0 or resp2 !=1:\n",
        "  resp2 = int(input(\"Telefonou para a vítima? \"))\n",
        "\n",
        "resp3 = int(input(\"Mora perto da vítima? \"))\n",
        "while resp3 != 0 or resp3 !=1:\n",
        "  resp3 = int(input(\"Telefonou para a vítima? \"))\n",
        "\n",
        "resp4 = int(input(\"Devia para a vítima? \"))\n",
        "while resp4 != 0 or resp4 !=1:\n",
        "  resp4 = int(input(\"Telefonou para a vítima? \"))\n",
        "\n",
        "resp5 = int(input(\"Já trabalhou com a vítima? \"))\n",
        "while resp5 != 0 or resp5 !=1:\n",
        "  resp5 = int(input(\"Telefonou para a vítima? \"))\n",
        "\n",
        "\n",
        "somaResp = (resp1 + resp2 + resp3 + resp4 + resp5)\n",
        "\n",
        "if somaResp == 2:\n",
        "    print(\"suspeita\")\n",
        "else:\n",
        "    if somaResp == 3 or somaResp == 4:\n",
        "        print(\"Cúmplice\")\n",
        "    else:\n",
        "       if somaResp == 5:\n",
        "            print(\"Assassino\")\n",
        "       elif somaResp == 0 or somaResp == 1:\n",
        "            print(\"Inocente\")\n",
        "       else:\n",
        "          print(\"Valor inválido\")"
      ],
      "metadata": {
        "id": "MGY-hcuhhukk"
      },
      "execution_count": null,
      "outputs": []
    },
    {
      "cell_type": "code",
      "source": [
        "#QUESTÃO 42\n",
        "numLitros = float(input(\"numero de litros: \"))\n",
        "tipoCombustivel = input(\"tipo combustível - A ou G \")\n",
        "\n",
        "limiteDescontoLitros = 150\n",
        "valorLitroAlcool = 1.9\n",
        "valorLitroGasolina = 2.5\n",
        "descontoAlcoolInferior = 0.97 # (1 - 0.03)\n",
        "descontoAlcoolSuperior = 0.95 # (1- 0.05)\n",
        "\n",
        "\n",
        "if tipoCombustivel == \"A\" or tipoCombustivel == 'a':\n",
        "    if numLitros <= limiteDescontoLitros:\n",
        "        valorPago = (numLitros * valorLitroAlcool) * descontoAlcoolInferior\n",
        "    else:\n",
        "        valorPago = (numLitros * valorLitroAlcool) * descontoAlcoolSuperior\n",
        "else:\n",
        "    if tipoCombustivel == \"G\" or tipoCombustivel == 'g':\n",
        "        if numLitros <= limiteDescontoLitros:\n",
        "            valorPago = (numLitros * valorLitroGasolina) * 0.96\n",
        "        else:\n",
        "            valorPago = (numLitros * valorLitroGasolina) * 0.94\n",
        "    else:\n",
        "        print(\"Informação inválida\")\n",
        "        valorPago = 0\n",
        "\n",
        "print(valorPago)"
      ],
      "metadata": {
        "id": "9s0d5Tegrm3v"
      },
      "execution_count": null,
      "outputs": []
    },
    {
      "cell_type": "code",
      "source": [
        "#QUESTÃO 43\n",
        "print(\"Aperte 1 para Morango \\nAperte 2 para Maçã\")\n",
        "fruta = int(input(\"Escolha uma fruta: \"))\n",
        "while fruta != 1 and fruta != 2:\n",
        "  fruta = int(input(\"Escolha corretamente: \"))\n",
        "quilos = float(input(\"Escolha a quantidade de kg: \"))\n",
        "while quilos <= 0:\n",
        "  quilos = int(input(\"Escolha um valor possivel: \"))\n",
        "if fruta == 1:\n",
        "  if quilos <= 5:\n",
        "    valorTotal = (2.5*quilos)\n",
        "  else:\n",
        "    valorTotal = (2.2*quilos)\n",
        "elif fruta == 2:\n",
        "  if quilos <= 5:\n",
        "    valorTotal = (1.8*quilos)\n",
        "  else:\n",
        "    valorTotal = (1.5*quilos)\n",
        "\n",
        "if quilos > 8 and valorTotal >25:\n",
        "  valorTotal = valorTotal*0.9\n",
        "\n",
        "print(valorTotal)"
      ],
      "metadata": {
        "id": "R6ISb9PluL-C"
      },
      "execution_count": null,
      "outputs": []
    },
    {
      "cell_type": "code",
      "source": [
        "#QUESTÃO 44\n",
        "idade = int(input(\"Digite sua idade: \"))\n",
        "if idade <= 4:\n",
        "  if idade <= 0:\n",
        "    print(\"Idade inexistente!\")\n",
        "  else:\n",
        "    print(\"Idade insuficiente!\")\n",
        "elif idade <= 5 and idade <= 7:\n",
        "  print(\"Sua categoria é Infantil A!\")\n",
        "elif idade >= 8 and idade <= 10:\n",
        "  print(\"Sua categoria é Infantil B!\")\n",
        "elif idade >= 11 and idade <= 13:\n",
        "  print(\"Sua categoria é Juvenil A!\")\n",
        "elif idade >= 14 and idade <= 17:\n",
        "  print(\"Sua categoria é Juvenil B!\")\n",
        "else:\n",
        "  print(\"Sua categoria é adulto!\")"
      ],
      "metadata": {
        "id": "7JSnni-LuQHA"
      },
      "execution_count": null,
      "outputs": []
    },
    {
      "cell_type": "code",
      "source": [
        "#QUESTÃO 45\n",
        "altura = float(input(\"Digite sua altura: \"))\n",
        "sexo = input(\"Digite M para masculino e F para feminino: \")\n",
        "if sexo == \"M\" or sexo == \"m\":\n",
        "  peso = (72.7*altura)-58\n",
        "elif sexo == \"F\" or sexo ==\"f\":\n",
        "   peso = (62.1*altura)-44.7\n",
        "else:\n",
        "  peso = \"Valor inválido\"\n",
        "print(\"Seu peso ideal é: \", peso)"
      ],
      "metadata": {
        "id": "MAZgnq1TuSHG"
      },
      "execution_count": null,
      "outputs": []
    },
    {
      "cell_type": "code",
      "source": [
        "#QUESTÃO ALTERNATIVA QUADRANTES\n",
        "x = float(input(\"Indique um valor de x: \"))\n",
        "y = float(input(\"Indique um valor de y: \"))\n",
        "\n",
        "if x > 0 and y > 0:\n",
        "  quadrante = (\"Pertence ao primeiro quadrante!\")\n",
        "elif x < 0 and y > 0:\n",
        "  quadrante = (\"Pertence ao segundo quadrante!\")\n",
        "elif x < 0 and y < 0:\n",
        "  quadrante = (\"Pertence ao terceiro quadrante!\")\n",
        "elif x > 0 and y < 0:\n",
        "  quadrante = (\"Pertence ao quarto quadrante!\")\n",
        "elif x == 0 and y == 0:\n",
        "  quadrante = (\"Está na origem\")\n",
        "elif x == 0:\n",
        "    quadrante = (\"O ponto toca no eixo Y\")\n",
        "else:\n",
        "  quadrante = (\"O ponto toca no eixo X\")\n",
        "\n",
        "print(\"Para o ponto ({} , {}): {}\".format(x,y,quadrante))"
      ],
      "metadata": {
        "id": "TMp3sUh83sh0"
      },
      "execution_count": null,
      "outputs": []
    },
    {
      "cell_type": "code",
      "source": [
        "#EXEMPLOS EM SALA 14/03\n",
        "for i in range(5):\n",
        "  num = int(input(\"Num: \"))\n",
        "  print(num)"
      ],
      "metadata": {
        "id": "sXw-PRVw6u5J"
      },
      "execution_count": null,
      "outputs": []
    },
    {
      "cell_type": "code",
      "source": [
        "#EXEMPLOS EM SALA 14/03\n",
        "for i  in range(1,50):\n",
        "  if i%2 !=0:\n",
        "    print(i)"
      ],
      "metadata": {
        "id": "7znMZQZYZDtL"
      },
      "execution_count": null,
      "outputs": []
    },
    {
      "cell_type": "code",
      "source": [
        "#QUESTÃO PROBLEMA 14/03:\n",
        "for num in range(2):\n",
        "  num = int(input(\"Num: \"))\n",
        "  soma = 0\n",
        "  soma = soma + num\n",
        "  media = soma/2\n",
        "\n",
        "  print(soma) and print(media)\n",
        "\n",
        "#erros"
      ],
      "metadata": {
        "id": "6-Dl7u8hedhy"
      },
      "execution_count": null,
      "outputs": []
    },
    {
      "cell_type": "code",
      "source": [
        "#QUESTÃO PROBLEMA WHILE\n",
        "nota = float(input(\"Digite sua nota: \"))\n",
        "\n",
        "while nota < 0 or nota > 10:\n",
        "  print(\"NOTA INVÁLIDA\")\n",
        "  nota = float(input(\"Digite sua nota: \"))\n",
        "\n",
        "print(\"Sua nota é: {}\".format(nota))"
      ],
      "metadata": {
        "id": "ckLCP91U6SQo"
      },
      "execution_count": null,
      "outputs": []
    },
    {
      "cell_type": "code",
      "source": [
        "num = float(input(\"Digite um número: \"))\n",
        "\n",
        "cont_0_25 = cont_26_50 = cont_51_75 = cont_76_100 = 0\n",
        "\n",
        "while num >= 0:\n",
        "  if num >= 0 and num <= 25:\n",
        "    cont_0_25 += 1\n",
        "  elif num <= 26 and num >= 50:\n",
        "    cont_26_50 += 1\n",
        "  elif num <= 51 and num >= 75:\n",
        "    cont_51_75 += 1\n",
        "  elif num <= 76 and num >= 100:\n",
        "    cont_76_100 += 1\n",
        "  num = float(input(\"Digite um número: \"))\n",
        "\n",
        "print(cont_0_25,cont_26_50,cont_51_75,cont_76_100)\n"
      ],
      "metadata": {
        "id": "fqG3dWrW8lVy"
      },
      "execution_count": null,
      "outputs": []
    },
    {
      "cell_type": "code",
      "source": [
        "populacaoA = 80000\n",
        "populacaoB = 200000\n",
        "taxaA = 0.03\n",
        "taxaB = 0.015\n",
        "ano = 0\n",
        "\n",
        "while populacaoA < populacaoB:\n",
        "  populacaoA = populacaoA + populacaoA*taxaA\n",
        "  populacaoB += populacaoB*taxaB\n",
        "  ano += 1\n",
        "\n",
        "print(ano)"
      ],
      "metadata": {
        "id": "kxlx6sCfA0Ih"
      },
      "execution_count": null,
      "outputs": []
    },
    {
      "cell_type": "code",
      "source": [
        "#QUESTÃO 46\n",
        "aprovado = 0\n",
        "recuperacao = 0\n",
        "reprovado = 0\n",
        "invalido = 0\n",
        "\n",
        "for media in range (1,5):\n",
        "  nota1 = float(input(\"Digite a primeira nota: \"))\n",
        "  nota2 = float(input(\"Digite a segunda nota: \"))\n",
        "  media = (nota1+nota2)/2\n",
        "\n",
        "  if media < 0 or media > 10:\n",
        "    invalido += 1\n",
        "  else:\n",
        "    if media >= 7.5:\n",
        "      aprovado += 1\n",
        "    else:\n",
        "      if media >= 4:\n",
        "        recuperacao += 1\n",
        "      else:\n",
        "        reprovado +=1\n",
        "  print(media)\n",
        "\n",
        "print(\"Aprovados:{} Recuperação:{} Reprovados:{}\".format(aprovado,recuperacao,reprovado))"
      ],
      "metadata": {
        "id": "QESaPVVIYKiY"
      },
      "execution_count": null,
      "outputs": []
    },
    {
      "cell_type": "code",
      "source": [
        "#QUESTÃO 47\n",
        "\n",
        "number = int(input(\"Digite um número: \"))\n",
        "max = number\n",
        "min = number\n",
        "for num in range (0,9):\n",
        "  number = int(input(\"Digite um número: \"))\n",
        "  if(number < min):\n",
        "    min = number\n",
        "  if(number > max):\n",
        "    max = number\n",
        "\n",
        "print(\"O maior número é {}, e o menor número é {}\".format(max, min))\n"
      ],
      "metadata": {
        "id": "fuUzTciqojDE"
      },
      "execution_count": null,
      "outputs": []
    },
    {
      "cell_type": "code",
      "source": [
        "#QUESTÃO 48\n",
        "fatorial = 1\n",
        "num = int(input(\"Digite um número: \"))\n",
        "for i in range (1, num+1):\n",
        "  fatorial = fatorial * i\n",
        "\n",
        "print (fatorial)"
      ],
      "metadata": {
        "id": "HYBRyT11r2S_"
      },
      "execution_count": null,
      "outputs": []
    },
    {
      "cell_type": "code",
      "source": [
        "#QUESTÃO 49\n",
        "soma = 0\n",
        "for num in range (0, 1000, 2):\n",
        "  soma += num\n",
        "\n",
        "print(soma)"
      ],
      "metadata": {
        "id": "J3hAV2pfbIW4"
      },
      "execution_count": null,
      "outputs": []
    },
    {
      "cell_type": "code",
      "source": [
        "#QUESTÃO 50\n",
        "for n in range (5):\n",
        "  lado1 = int(input(\"Digite o valor do lado deste quadrado: \"))\n",
        "  lado2 = int(input(\"Digite o valor do lado deste quadrado: \"))\n",
        "  area = lado1*lado2\n",
        "  print(area)\n",
        "\n"
      ],
      "metadata": {
        "id": "Y98tghXhf4iZ"
      },
      "execution_count": null,
      "outputs": []
    },
    {
      "cell_type": "code",
      "source": [
        "#QUESTÃO 51\n",
        "a = int(input(\"Digite o numero referente a A: \"))\n",
        "b = int(input(\"Digite o numero referente a B: \"))\n",
        "numero = 1\n",
        "\n",
        "for i in range (b):\n",
        "  numero *= a\n",
        "\n",
        "print(numero)\n"
      ],
      "metadata": {
        "id": "bbo5tY3BAOV8"
      },
      "execution_count": null,
      "outputs": []
    },
    {
      "cell_type": "code",
      "source": [
        "#QUESTÃO 52\n",
        "n = int(input(\"Digite o valor de N: \"))\n",
        "h = 0\n",
        "\n",
        "for i in range(1, n + 1):\n",
        "    h += 1/i\n",
        "\n",
        "print(h)"
      ],
      "metadata": {
        "id": "Su6KvQifGjDI"
      },
      "execution_count": null,
      "outputs": []
    },
    {
      "cell_type": "code",
      "source": [
        "#QUESTÃO 53\n",
        "x = int(input(\"Digite um valor para X: \"))\n",
        "soma = 0\n",
        "\n",
        "for formula in range ((x+1),(x+101)):\n",
        "  soma += formula\n",
        "\n",
        "print(soma)"
      ],
      "metadata": {
        "id": "_44OU4iTheOM"
      },
      "execution_count": null,
      "outputs": []
    },
    {
      "cell_type": "code",
      "source": [
        "#QUESTÃO 54\n",
        "soma = 0\n",
        "numerador = 1000\n",
        "denominador = 1\n",
        "\n",
        "for i in range(50):\n",
        "  equacao = numerador/denominador\n",
        "  print(\"{}/{}\".format(numerador, denominador), end = \" \")\n",
        "  if i < 49:\n",
        "    print(\"+\", end = \" \")\n",
        "  else:\n",
        "    print(\"=\", end = \" \")\n",
        "  soma += equacao\n",
        "  numerador -= 3\n",
        "  denominador += 1\n",
        "\n",
        "print(soma)\n"
      ],
      "metadata": {
        "id": "59J3xRtdGZZn"
      },
      "execution_count": null,
      "outputs": []
    },
    {
      "cell_type": "code",
      "source": [
        "#QUESTÃO 55\n",
        "x = float(input(\"Digite o valor de X: \"))\n",
        "acc = 0\n",
        "for i in range(1, 201, 4):\n",
        "  acc += ((x**i) / i)\n",
        "  acc -= ((x**(i + 2)) / (i + 2))\n",
        "\n",
        "print(acc)"
      ],
      "metadata": {
        "id": "qSB56zJy1evF"
      },
      "execution_count": null,
      "outputs": []
    },
    {
      "cell_type": "code",
      "source": [
        "#QUESTÃO 56\n",
        "\n",
        "print(\"ESTE NÚMERO DEVE SER MAIOR QUE 5!\")\n",
        "numeroTermos = int(input(\"Digite o número de termos dessa sequência: \"))\n",
        "\n",
        "while numeroTermos <= 5:\n",
        "  print(\"OBS: SE ATENTE A REGRA!\")\n",
        "  numeroTermos = int(input(\"Digite o número novamente: \"))\n",
        "\n",
        "m = 1\n",
        "n = 1\n",
        "soma = 0\n",
        "\n",
        "for i in range(numeroTermos):\n",
        "  formula = n/m\n",
        "  soma += formula\n",
        "  n += 1\n",
        "  m += 2\n",
        "\n",
        "print(\"A soma da série é de {}\".format(soma))\n"
      ],
      "metadata": {
        "id": "WTJaNGrGU_2i"
      },
      "execution_count": null,
      "outputs": []
    },
    {
      "cell_type": "code",
      "source": [
        "#QUESTÃO 57\n",
        "soma = 0\n",
        "quantidade0 = 0\n",
        "quantidade1 = 0\n",
        "quantidade2 = 0\n",
        "for i in range (1,5):\n",
        "  idade = int(input(\"Digite sua idade: \"))\n",
        "  while idade < 0:\n",
        "     print(\"IDADE INVÁLIDA! \\nDIGITE NOVEMENTE!\")\n",
        "     idade = int(input(\"Digite uma nota: \"))\n",
        "\n",
        "  print(\"DIGITE 3 PARA OTIMO, 2 PARA BOM, 3 PARA REGULAR\")\n",
        "  nota = int(input(\"Digite uma nota: \"))\n",
        "  while nota != 3 and nota != 2 and nota != 1:\n",
        "    print(\"NOTA INVÁLIDA! \\n DIGITE NOVEMENTE!\")\n",
        "    nota = int(input(\"Digite uma nota: \"))\n",
        "\n",
        "  if nota == 3:\n",
        "    quantidade0 += 1\n",
        "    soma += idade\n",
        "  else:\n",
        "    if nota == 1:\n",
        "      quantidade1 += 1\n",
        "    else:\n",
        "      if nota == 2:\n",
        "        quantidade2 += 1\n",
        "\n",
        "media = soma/quantidade0\n",
        "porcentagem = (quantidade2/i)*100\n",
        "\n",
        "print(\"A média da idade das pessoas que responderam ótimo é de: {}\".format(media))\n",
        "print(\"A quantidade de pessoas que responderam regular é de {}\".format(quantidade1))\n",
        "print(\"A porcentagem de pessoas que responderam bom é de {}%\".format(porcentagem))"
      ],
      "metadata": {
        "id": "ZQ3wy2BYnIHY"
      },
      "execution_count": null,
      "outputs": []
    },
    {
      "cell_type": "code",
      "source": [
        "#QUESTÃO 58\n",
        "num1 = int(input(\"Digite o primeiro número: \"))\n",
        "num2 = int(input(\"Digite o segundo número: \"))\n",
        "\n",
        "for i in range (num1+1, num2):\n",
        "  print(i)"
      ],
      "metadata": {
        "id": "_koo1qGMKUKZ"
      },
      "execution_count": null,
      "outputs": []
    },
    {
      "cell_type": "code",
      "source": [
        "#QUESTÃO 59\n",
        "num = int(input(\"Digite o dumero que deseja: \"))\n",
        "print(\"Tabuada de {}\".format(num))\n",
        "\n",
        "for n in range (1, 11):\n",
        "  calculo = num*n\n",
        "  print(\"{} x {} = {}\".format(num, n, calculo))"
      ],
      "metadata": {
        "id": "cDofkEVEjW2E"
      },
      "execution_count": null,
      "outputs": []
    },
    {
      "cell_type": "code",
      "source": [
        "#QUESTÃO 60\n",
        "\n",
        "num = int(input(\"Digite um número inteiro POSITIVO: \"))\n",
        "while num <=  0:\n",
        "  if num == 0:\n",
        "    print(\"ESTE NÚMERO É 0, DIGITE CORRETAMENTE!\")\n",
        "    num = int(input(\"Digite um número inteiro POSITIVO: \"))\n",
        "  else:\n",
        "    print(\"ESTE NÚMERO É NEGATIVO, DIGITE CORRETAMENTE!\")\n",
        "    num = int(input(\"Digite um número inteiro POSITIVO: \"))\n",
        "\n",
        "if num == 2 or num == 3:\n",
        "  print(\"Este número é primo!\")\n",
        "else:\n",
        "  if num % 2 == 0:\n",
        "   print(\"Este número não é primo!\")\n",
        "  else:\n",
        "    if num % 3 == 0:\n",
        "      print(\"Este número não é primo!\")\n",
        "    else:\n",
        "      print(\"Este número é primo!\")\n"
      ],
      "metadata": {
        "id": "Hl84nr9LYnOF"
      },
      "execution_count": null,
      "outputs": []
    },
    {
      "cell_type": "code",
      "source": [
        "#QUESTÃO 61\n",
        "soma = 0\n",
        "\n",
        "for i in range (1,5):\n",
        "  idade = int(input(\"Digite sua idade: \"))\n",
        "  while idade < 0:\n",
        "    print(\"Idade inválida!\")\n",
        "    idade = int(input(\"Digite sua idade corretamente: \"))\n",
        "  soma += idade\n",
        "media = soma/4\n",
        "\n",
        "if media >= 0 and media <=25:\n",
        "  print(\"Esta turma é jovem\")\n",
        "else:\n",
        "  if media >= 26 and media <=60:\n",
        "    print(\"Esta turma é adulta\")\n",
        "  else:\n",
        "    print(\"Esta turma é idosa\")\n",
        "\n",
        "print(\"A média de idade da turma é {}\".format(media))"
      ],
      "metadata": {
        "id": "mk7lDXKAYIBY"
      },
      "execution_count": null,
      "outputs": []
    },
    {
      "cell_type": "code",
      "source": [
        "#QUESTÃO 62\n",
        "\n",
        "n = int(input(\"Digite a quantidade de números dessa sequência: \"))\n",
        "termo1 = int(input(\"Digite o primeiro termo: \"))\n",
        "termo2 = int(input(\"Digite o segundo termo: \"))\n",
        "\n",
        "print(termo1)\n",
        "print(termo2)\n",
        "\n",
        "for i in range(3, n + 1):\n",
        "    if (termo1 + termo2) % 2 == 0:\n",
        "        termo3 = termo1 + termo2\n",
        "    else:\n",
        "        termo3 = termo1 - termo2\n",
        "\n",
        "    print(termo3)\n",
        "\n",
        "    termo1 = termo2\n",
        "    termo2 = termo3"
      ],
      "metadata": {
        "id": "07wVHd89aIuj"
      },
      "execution_count": null,
      "outputs": []
    },
    {
      "cell_type": "code",
      "source": [
        "#QUESTÃO 63\n",
        "nTermos = int(input(\"Digite o número de termos: \"))\n",
        "razao = int(input(\"Digite a razão: \"))\n",
        "termo1 = int(input(\"Digite o primeiro termo: \"))\n",
        "\n",
        "for i in range(nTermos):\n",
        "    print(termo1)\n",
        "    termo1 += razao"
      ],
      "metadata": {
        "id": "_0_JZtumo-iJ"
      },
      "execution_count": null,
      "outputs": []
    },
    {
      "cell_type": "code",
      "source": [
        "#QUESTÃO 64\n",
        "temperatura = float(input(\"Insira a temperatura\"))\n",
        "menorTemperatura = temperatura\n",
        "maiorTemperatura = temperatura\n",
        "acc = temperatura\n",
        "quantidadeDeInput = 10\n",
        "\n",
        "for i in range(0, quantidadeDeInput):\n",
        "  if(menorTemperatura > temperatura):\n",
        "    menorTemperatura = temperatura\n",
        "  if(maiorTemperatura < temperatura):\n",
        "    maiorTemperatura = temperatura\n",
        "  temperatura = float(input(\"Insira a temperatura\"))\n",
        "  acc += temperatura\n",
        "\n",
        "print(\"A maior temperatura {}, a menor temperatura {}, e a media é {}\".format(maiorTemperatura, menorTemperatura, acc / quantidadeDeInput))\n",
        "\n",
        "\n"
      ],
      "metadata": {
        "id": "KLZLNes22kgU"
      },
      "execution_count": null,
      "outputs": []
    },
    {
      "cell_type": "code",
      "source": [
        "#QUESTÂO 65\n",
        "\n",
        "divida = float(input(\"Digite o valor da dívida: \"))\n",
        "print(\"Valor da dívida\\t\\t\\tValor dos Juros\\t\\t\\tQuantidade de Parcelas\\t\\t\\tValor das Parcelas\")\n",
        "print(\"R$ {:.2f}\\t\\t\\t\\t{}\\t\\t\\t\\t{}\\t\\t\\t\\tR$ {:.2f}\".format(divida, 0, 1, divida))\n",
        "print(\"R$ {:.2f}\\t\\t\\t\\t{}\\t\\t\\t\\t{}\\t\\t\\t\\tR$ {:.2f}\".format(divida*1.1, divida*0.1, 3, (divida*1.1) / 3))\n",
        "print(\"R$ {:.2f}\\t\\t\\t\\t{}\\t\\t\\t\\t{}\\t\\t\\t\\tR$ {:.2f}\".format(divida*1.15, divida*0.15, 6, (divida*1.15) / 6))\n"
      ],
      "metadata": {
        "id": "ANn8w-Bz6EEp"
      },
      "execution_count": null,
      "outputs": []
    },
    {
      "cell_type": "code",
      "source": [
        "#QUESTÃO 66\n",
        "numeroDoEmpregado = int(input(\"Numero do empregado: \"))\n",
        "numeroDeMesesTrabalhado = int(input(\"Numero de meses trabalhados: \"))\n",
        "maisRecente = numeroDoEmpregado\n",
        "maisAntigo = numeroDoEmpregado\n",
        "while(numeroDoEmpregado != 0 and numeroDeMesesTrabalhado != 0):\n",
        "  if(numeroDeMesesTrabalhado < maisRecente):\n",
        "    maisRecente = numeroDoEmpregado\n",
        "  if(numeroDeMesesTrabalhado > maisAntigo):\n",
        "    maisAntigo = numeroDoEmpregado\n",
        "  numeroDoEmpregado = int(input(\"Numero do empregado: \"))\n",
        "  numeroDeMesesTrabalhado = int(input(\"Numero de meses trabalhados: \"))\n",
        "\n",
        "print(\"O numero do funcionario mais antigo é {} e o mais recente é {}\".format(maisAntigo, maisRecente))"
      ],
      "metadata": {
        "id": "SSkqzRDBzNWP"
      },
      "execution_count": null,
      "outputs": []
    },
    {
      "cell_type": "code",
      "source": [
        "#QUESTÃO 67\n",
        "\n",
        "soma = 0\n",
        "quantPessoas = 0\n",
        "somaFilhos = 0\n",
        "quantcondicao = 0\n",
        "salarioCondicao = 0\n",
        "\n",
        "salario = float(input(\"Digite o salário: \"))\n",
        "quantFilhos = int(input(\"Digite a quantidade de filhos: \"))\n",
        "\n",
        "while salario > 0:\n",
        "    soma += salario\n",
        "    quantPessoas += 1\n",
        "    somaFilhos += quantFilhos\n",
        "\n",
        "    if salario <= 250:\n",
        "        quantcondicao += 1\n",
        "        salarioCondicao += salario\n",
        "    if salario > salarioCondicao:\n",
        "        maior = salario\n",
        "    else:\n",
        "        maior = salarioCondicao\n",
        "\n",
        "    salario = float(input(\"Digite o salário: \"))\n",
        "    quantFilhos = int(input(\"Digite a quantidade de filhos: \"))\n",
        "\n",
        "mediaSalario = soma / quantPessoas\n",
        "mediaFilhos = somaFilhos / quantPessoas\n",
        "\n",
        "if quantcondicao > 0:\n",
        "    percentual = (quantcondicao / quantPessoas) * 100\n",
        "else:\n",
        "    percentual = 0\n",
        "\n",
        "print(\"Média dos salários: \", mediaSalario)\n",
        "print(\"Média da quantidade de filhos: \", mediaFilhos)\n",
        "print(\"Percentual de pessoas com salário até R$250: \", percentual)\n",
        "print(\"Maior salário: \", maior)\n"
      ],
      "metadata": {
        "id": "CU9Jeg0Q3CAc"
      },
      "execution_count": null,
      "outputs": []
    },
    {
      "cell_type": "code",
      "source": [
        "#QUESTÃO 68\n",
        "quantPares = 0\n",
        "quantImpares = 0\n",
        "quantTotal = 0\n",
        "somaPares = 0\n",
        "somaTotal = 0\n",
        "\n",
        "num = int(input(\"Digite um número positivo: \"))\n",
        "while num != 0:\n",
        "  while num < 0:\n",
        "    num = int(input(\"Digite um número positivo CORRETAMENTE: \"))\n",
        "  somaTotal += num\n",
        "  quantTotal += 1\n",
        "  if num % 2 == 0:\n",
        "    quantPares += 1\n",
        "    somaPares += num\n",
        "  else:\n",
        "    quantImpares += 1\n",
        "  num = int(input(\"Digite um número positivo: \"))\n",
        "\n",
        "mediaPares= somaPares/quantPares\n",
        "mediaTotal = somaTotal/quantTotal\n",
        "\n",
        "print(\"A quantidade de pares foi de {} \\nA quantidade de impares foi de {}\".format(quantPares, quantImpares))\n",
        "print(\"A media de pares foi de {} \\nA média total foi de {}\".format(mediaPares, mediaTotal))"
      ],
      "metadata": {
        "id": "Pw6-sjM2UW2C"
      },
      "execution_count": null,
      "outputs": []
    },
    {
      "cell_type": "code",
      "source": [
        "#QUESTÃO 69\n",
        "\n",
        "valorCompra = 0\n",
        "\n",
        "print(\"Especificação \t  Código \t \tPreço\")\n",
        "\n",
        "print(\"Cachorro Quente     100               R$ 1,20\")\n",
        "print(\"Bauru Simples       101               R$ 1,30\")\n",
        "print(\"Bauru com ovo       102               R$ 1,50\")\n",
        "print(\"Hambúrguer          103               R$ 1,20\")\n",
        "print(\"Cheeseburguer       104               R$ 1,30\")\n",
        "print(\"Refrigerante        105               R$ 1,00\")\n",
        "\n",
        "encerrador = int(input(\"Digite 1 para começar o pedido e 0 para encerrar: \"))\n",
        "while encerrador != 1 and encerrador != 0:\n",
        "  encerrador = int(input(\"Digite CORRETAMENTE 1 para começar o pedido e 0 para encerrar: \"))\n",
        "while encerrador == 1:\n",
        "  codigo =  int(input(\"Digite o código do seu pedido: \"))\n",
        "  while codigo != 100 and codigo != 101 and codigo != 102 and codigo != 103 and codigo != 104 and codigo != 105:\n",
        "    codigo =  int(input(\"Digite o código do seu pedido CORRETAMENTE: \"))\n",
        "  quantidade = int(input(\"Digite a quantidade de produtos: \"))\n",
        "  while quantidade <= 0:\n",
        "    quantidade = int(input(\"Digite a quantidade de produtos CORRETAMENTE: \"))\n",
        "\n",
        "  encerrador = int(input(\"Digite 1 para continuar o pedido e 0 para encerrar: \"))\n",
        "  while encerrador != 1 and encerrador != 0:\n",
        "    encerrador = int(input(\"Digite CORRETAMENTE 1 para continuar o pedido e 0 para encerrar: \"))\n",
        "\n",
        "  if codigo == 100 or codigo == 103:\n",
        "    valorCompra += 1.2*quantidade\n",
        "  else:\n",
        "    if codigo == 101 or codigo == 104:\n",
        "      valorCompra += 1.3*quantidade\n",
        "    else:\n",
        "      if codigo == 102:\n",
        "        valorCompra += 1.5*quantidade\n",
        "      else:\n",
        "        valorCompra += 1*quantidade\n",
        "\n",
        "print(valorCompra)\n"
      ],
      "metadata": {
        "id": "uca8LgNI9Eyx"
      },
      "execution_count": null,
      "outputs": []
    },
    {
      "cell_type": "code",
      "source": [
        "#QUESTÃO 70\n",
        "\n",
        "pontos = 0\n",
        "time = 0\n",
        "timeAdversario = 0\n",
        "\n",
        "while time >= 0 and timeAdversario >= 0:\n",
        "    time = int(input(\"Digite a quantidade de gols do time: \"))\n",
        "    timeAdversario = int(input(\"Digite a quantidade de gols do adversário: \"))\n",
        "\n",
        "    if time < 0 or timeAdversario < 0:\n",
        "        break\n",
        "    else:\n",
        "        if time > timeAdversario:\n",
        "            pontos += 3\n",
        "        elif time == timeAdversario:\n",
        "            pontos += 1\n",
        "else:\n",
        "    print(\"A quantidade de pontos foi de: {}\".format(pontos))\n",
        "\n"
      ],
      "metadata": {
        "id": "sSGZqVUcm5SZ"
      },
      "execution_count": null,
      "outputs": []
    },
    {
      "cell_type": "code",
      "source": [
        "#QUESTÃO 71\n",
        "num = int(input(\"Digite um número: \"))\n",
        "isTriangular = False\n",
        "for i in range(0, num // 3):\n",
        "  numeroMultiplicado = i*(i+1)*(i+2)\n",
        "  if(numeroMultiplicado == num):\n",
        "    isTriangular = True\n",
        "    break\n",
        "\n",
        "if(isTriangular):\n",
        "  print(\"O numero é triangular\")\n",
        "else:\n",
        "  print(\"O numero nao é triangular\")\n"
      ],
      "metadata": {
        "id": "i3pe5t0hKWsv"
      },
      "execution_count": null,
      "outputs": []
    },
    {
      "cell_type": "code",
      "source": [
        "#QUESTÃO 72\n",
        "\n",
        "erroLogin = 0\n",
        "erroSenha = 0\n",
        "\n",
        "login = input(\"Digite o login: \")\n",
        "while login != \"kezia\" and erroLogin < 3:\n",
        "    erroLogin += 1\n",
        "    print(\"Login inválido! Tentativas restantes:\", 3 - erroLogin)\n",
        "    login = input(\"Digite o login corretamente: \")\n",
        "\n",
        "if login == \"kezia\":\n",
        "    print(\"Login válido!\")\n",
        "    senha = input(\"Digite a senha: \")\n",
        "    while senha != \"123\" and erroSenha < 3:\n",
        "        erroSenha += 1\n",
        "        print(\"Senha inválida! Tentativas restantes:\", 3 - erroSenha)\n",
        "        senha = input(\"Digite a senha corretamente: \")\n",
        "\n",
        "    if senha == \"123\":\n",
        "        print(\"Senha válida!\")\n",
        "    elif erroSenha == 3:\n",
        "        print(\"Você excedeu a quantidade de tentativas com SENHA INVÁLIDA!\")\n",
        "else:\n",
        "    print(\"Você excedeu a quantidade de tentativas com LOGIN INVÁLIDO!\")\n"
      ],
      "metadata": {
        "id": "st8GIjZqYoZC"
      },
      "execution_count": null,
      "outputs": []
    }
  ]
}